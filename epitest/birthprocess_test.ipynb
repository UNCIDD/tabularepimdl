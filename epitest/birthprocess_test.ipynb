{
 "cells": [
  {
   "cell_type": "code",
   "execution_count": 1,
   "metadata": {},
   "outputs": [
    {
     "name": "stderr",
     "output_type": "stream",
     "text": [
      "test_get_deltas_deterministic (__main__.TestBirthProcess.test_get_deltas_deterministic) ... ok\n",
      "test_get_deltas_stochastic (__main__.TestBirthProcess.test_get_deltas_stochastic) ... ok\n",
      "test_initialization_with_dataframe (__main__.TestBirthProcess.test_initialization_with_dataframe) ... ok\n",
      "test_initialization_with_dict (__main__.TestBirthProcess.test_initialization_with_dict) ... ok\n",
      "test_to_yaml (__main__.TestBirthProcess.test_to_yaml) ... ok\n",
      "\n",
      "----------------------------------------------------------------------\n",
      "Ran 5 tests in 0.012s\n",
      "\n",
      "OK\n"
     ]
    }
   ],
   "source": [
    "#Unit test for BirthProcess.py\n",
    "import os\n",
    "import sys\n",
    "\n",
    "sys.path.append('../') #When modules are in parallel locations, going one path level above makes one module visible to the other\n",
    "from tabularepimdl.BirthProcess import BirthProcess\n",
    "\n",
    "import unittest\n",
    "from unittest.mock import patch\n",
    "import numpy as np\n",
    "import pandas as pd\n",
    "\n",
    "class TestBirthProcess(unittest.TestCase):\n",
    "\n",
    "    def setUp (self): #prepare data values for below tests\n",
    "        self.rate = 0.00173 #The global birth rate in 2024 is 17.299 births per 1,000 people\n",
    "        self.start_state_sig_dict = {'state1':1, 'state2':2}\n",
    "        self.start_state_sig_df =  pd.DataFrame([self.start_state_sig_dict])\n",
    "        self.N_value = 1000\n",
    "        self.current_state = pd.DataFrame({'N': [self.N_value]})\n",
    "        self.dt = 1.0\n",
    "\n",
    "    def test_initialization_with_dict(self): #start_date_sig is dictionary type\n",
    "        bp_dict = BirthProcess(rate=self.rate, start_state_sig=self.start_state_sig_dict, stochastic=False)\n",
    "        self.assertEqual(bp_dict.rate, self.rate, \"birthprocess rate is not euqal to {}\".format(self.rate))\n",
    "        pd.testing.assert_frame_equal(bp_dict.start_state_sig, self.start_state_sig_df, check_dtype=True) #data type should be the same unless it is not required\n",
    "        self.assertFalse(bp_dict.stochastic, \"birthprocess stochastic boolean is not {}\".format(bp_dict.stochastic))\n",
    "\n",
    "    def test_initialization_with_dataframe(self): #start_date_sig is dataframe type\n",
    "        bp_df = BirthProcess(rate=self.rate, start_state_sig=self.start_state_sig_df, stochastic=True)\n",
    "        self.assertEqual(bp_df.rate, self.rate, 'birthprocess rate is not equal to {}'.format(self.rate))\n",
    "        pd.testing.assert_frame_equal(bp_df.start_state_sig, self.start_state_sig_df, check_dtype=True) #data type should be the same unless it is not required\n",
    "        self.assertTrue(bp_df.stochastic, \"birthprocess stochastic boolean is not {}\".format(bp_df.stochastic))\n",
    "\n",
    "    def test_get_deltas_deterministic(self): #the process is deterministic\n",
    "        bp_deterministic = BirthProcess(rate=self.rate, start_state_sig=self.start_state_sig_dict, stochastic=False)\n",
    "        expected_births = self.start_state_sig_df.assign(N = self.N_value*(1-np.exp(-self.dt*self.rate)))\n",
    "        #print('expected_brith in deterministic is: ', expected_births) #print check\n",
    "        actual_births = bp_deterministic.get_deltas(self.current_state)\n",
    "        pd.testing.assert_frame_equal(actual_births, expected_births)\n",
    "\n",
    "    @patch('numpy.random.poisson') #mock object numpy.random.poisson\n",
    "    def test_get_deltas_stochastic(self, mock_poisson): #the process is stochastic, mock_poisson mocks np.random.poisson\n",
    "        mock_poisson.return_value = 10 #mocked drawn sample from poisson distribution returns 10\n",
    "        bp_stochatic = BirthProcess(rate=self.rate, start_state_sig=self.start_state_sig_dict, stochastic=True)\n",
    "        expected_births = self.start_state_sig_df.assign(N=10)\n",
    "        #print('expected_brith in stochastic is: ', expected_births) #print check\n",
    "        actual_births = bp_stochatic.get_deltas(self.current_state) #get_detlas will invoke mocked poisson function and return 10\n",
    "        pd.testing.assert_frame_equal(actual_births, expected_births)\n",
    "        mock_poisson.assert_called_once_with(self.N_value * (1 - np.exp(-self.dt * self.rate))) #Assert that the mock was called exactly once and that call was with the specified arguments.\n",
    "    \n",
    "    def test_to_yaml(self):\n",
    "        bp = BirthProcess(rate=self.rate, start_state_sig=self.start_state_sig_dict, stochastic=True)\n",
    "        result_yaml = bp.to_yaml()\n",
    "    \n",
    "        # Extract the DataFrame from the result yaml and the remaining dictionaries\n",
    "        result_start_state_sig = result_yaml['tabularepimdl.BirthProcess'].pop('start_state_sig') #remove dataframe from result_yaml and put the df into a new object\n",
    "        expected_start_state_sig = self.start_state_sig_df\n",
    "    \n",
    "        # Compare the remaining parts of the dictionary\n",
    "        expected_yaml = {\n",
    "            'tabularepimdl.BirthProcess': {\n",
    "            'rate': self.rate,\n",
    "            'stochastic': True\n",
    "            }\n",
    "        }\n",
    "\n",
    "        #print(result_yaml)\n",
    "        self.assertEqual(result_yaml, expected_yaml)\n",
    "    \n",
    "        # Compare the DataFrames separately\n",
    "        pd.testing.assert_frame_equal(result_start_state_sig, expected_start_state_sig)\n",
    "\n",
    "\n",
    "if __name__ == \"__main__\":\n",
    "    unittest.main(argv=[''], verbosity=2, exit=False)\n",
    "        "
   ]
  },
  {
   "cell_type": "code",
   "execution_count": null,
   "metadata": {},
   "outputs": [],
   "source": []
  },
  {
   "cell_type": "code",
   "execution_count": null,
   "metadata": {},
   "outputs": [],
   "source": []
  },
  {
   "cell_type": "code",
   "execution_count": null,
   "metadata": {},
   "outputs": [],
   "source": []
  },
  {
   "cell_type": "code",
   "execution_count": null,
   "metadata": {},
   "outputs": [],
   "source": []
  },
  {
   "cell_type": "code",
   "execution_count": null,
   "metadata": {},
   "outputs": [],
   "source": []
  }
 ],
 "metadata": {
  "kernelspec": {
   "display_name": "Python 3",
   "language": "python",
   "name": "python3"
  },
  "language_info": {
   "codemirror_mode": {
    "name": "ipython",
    "version": 3
   },
   "file_extension": ".py",
   "mimetype": "text/x-python",
   "name": "python",
   "nbconvert_exporter": "python",
   "pygments_lexer": "ipython3",
   "version": "3.11.9"
  }
 },
 "nbformat": 4,
 "nbformat_minor": 2
}
