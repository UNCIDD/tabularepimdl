{
 "cells": [
  {
   "cell_type": "code",
   "execution_count": 1,
   "metadata": {},
   "outputs": [
    {
     "name": "stderr",
     "output_type": "stream",
     "text": [
      "test_from_yaml (__main__.TestRule.test_from_yaml) ... ok\n",
      "test_get_deltas (__main__.TestRule.test_get_deltas) ... ok\n",
      "test_to_yaml (__main__.TestRule.test_to_yaml) ... ok\n",
      "\n",
      "----------------------------------------------------------------------\n",
      "Ran 3 tests in 0.010s\n",
      "\n",
      "OK\n"
     ]
    }
   ],
   "source": [
    "\"\"\" Unit Test for Rule.py\n",
    "rule_test.py for Rule.py and my_module.py, these three files are in the same folder. Use the from_yaml Method\n",
    "\n",
    "\"\"\"\n",
    "import os\n",
    "import sys\n",
    "\n",
    "sys.path.append('../') #When modules are in parallel locations, going one path level above makes one module visible to the other\n",
    "from tabularepimdl.Rule import Rule #with above path appending, tabluarepimdl can be recoganized correctly\n",
    "\n",
    "import unittest\n",
    "import yaml\n",
    "from my_module import MyRule\n",
    "\n",
    "class TestRule(unittest.TestCase):\n",
    "    \n",
    "    def setUp(self):\n",
    "        # Load the YAML file\n",
    "        with open(\"yaml_input.yml\", \"r\") as file:\n",
    "            self.rule_yaml = yaml.safe_load(file)\n",
    "        #print(self.rule_yaml)\n",
    "        # Create an instance of the rule using the from_yaml class method\n",
    "        self.rule = MyRule.from_yaml(self.rule_yaml)\n",
    "    \n",
    "    def test_get_deltas(self):\n",
    "        # Test the get_deltas method\n",
    "        current_state = 10\n",
    "        dt = 1.0\n",
    "        expected_deltas = {\"state\": 11.0}\n",
    "        deltas = self.rule.get_deltas(current_state, dt, stochastic=False)\n",
    "        self.assertEqual(deltas, expected_deltas , \"deltas value is not 11.0\")\n",
    "    \n",
    "    def test_to_yaml(self):\n",
    "        # Test the to_yaml method\n",
    "        expected_yaml = {\n",
    "            \"my_module.MyRule\": {\n",
    "                \"param1\": 1.0,\n",
    "                \"param2\": 2.0\n",
    "            }\n",
    "        }\n",
    "        self.assertEqual(self.rule.to_yaml(), expected_yaml, \"rule's yaml is not the same as expected yaml content\")\n",
    "    \n",
    "    def test_from_yaml(self):\n",
    "        # Test the from_yaml class method\n",
    "        self.assertIsInstance(self.rule, MyRule, \"rule is not an instance of MyRule\")\n",
    "        self.assertEqual(self.rule.param1, 1.0, \"param1 value is not 1.0\")\n",
    "        self.assertEqual(self.rule.param2, 2.0, \"param2 value is not 2.0\")\n",
    "\n",
    "if __name__ == \"__main__\":\n",
    "    unittest.main(argv=[''], verbosity=2, exit=False)"
   ]
  }
 ],
 "metadata": {
  "kernelspec": {
   "display_name": "Python 3",
   "language": "python",
   "name": "python3"
  },
  "language_info": {
   "codemirror_mode": {
    "name": "ipython",
    "version": 3
   },
   "file_extension": ".py",
   "mimetype": "text/x-python",
   "name": "python",
   "nbconvert_exporter": "python",
   "pygments_lexer": "ipython3",
   "version": "3.11.9"
  }
 },
 "nbformat": 4,
 "nbformat_minor": 2
}
