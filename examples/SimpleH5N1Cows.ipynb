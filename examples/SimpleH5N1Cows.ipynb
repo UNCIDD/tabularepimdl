{
 "cells": [
  {
   "cell_type": "markdown",
   "metadata": {},
   "source": [
    "# Simple Epidemic Model of H5N1 Spillover from Cows\n",
    "\n",
    "This is a simple example of a multi-population/species model inspired by the ongoing (as of Spring 2024) outbreak of H5N1 in cows. The basic idea is to have an ongoing outbreak in cattle where there is migration/movement between farms. The model also has population of farm workers who can be directly (if rarely) infected from cattle and may spread it within itself, and a general population that can be infected from the farmworkers and spread it within itself. "
   ]
  },
  {
   "cell_type": "markdown",
   "metadata": {},
   "source": [
    "First imports and setup"
   ]
  },
  {
   "cell_type": "code",
   "execution_count": 2,
   "metadata": {},
   "outputs": [],
   "source": [
    "import tabularepimdl as tepi\n",
    "\n",
    "import pandas as pd\n",
    "import numpy as np"
   ]
  },
  {
   "cell_type": "markdown",
   "metadata": {},
   "source": [
    "## Defining the population.\n",
    "\n",
    "To keep things simple we will create a population with 3 locations to start. Each location is assumed to contain some sort of dairy operation with farm workers and a connected general population. To represent this we will have a `Location` column with a location number, a `Population` model that can take on values `cow`, `farm_workers`, or `gen_pop` (general population). Each of these populations will have an infection state (`InfState`) which takes on the typical values of `S`, `I` and `R`. \n",
    "\n",
    "For starters let's assume we have a moderate sized breeding/cattle raising operation in a rural area that sends cattle to two other milking operations. One of these operations large and rural (i.e., lots of cows and farm workers, low general population), while the other is small but more closely linked to a moderately sized urban population.\n",
    "\n",
    "For now no one will be infected (we will add an infection process from an unrepresented bird species later)."
   ]
  },
  {
   "cell_type": "code",
   "execution_count": 9,
   "metadata": {},
   "outputs": [
    {
     "name": "stdout",
     "output_type": "stream",
     "text": [
      "   Location   Population InfState      N  T\n",
      "0         1          cow        S    400  0\n",
      "1         1  farm_worker        S     20  0\n",
      "2         1      gen_pop        S   5000  0\n",
      "3         2          cow        S   1000  0\n",
      "4         2  farm_worker        S     20  0\n",
      "5         2      gen_pop        S   5000  0\n",
      "6         3          cow        S     50  0\n",
      "7         3  farm_worker        S      5  0\n",
      "8         3      gen_pop        S  50000  0\n"
     ]
    }
   ],
   "source": [
    "populations = pd.DataFrame({\n",
    "    'Location' : [1]*3 + [2]*3 + [3]*3,\n",
    "    'Population': pd.Categorical(['cow','farm_worker','gen_pop' ]*3),\n",
    "    'InfState': pd.Categorical(['S']*9, categories=['S','I','R']),\n",
    "    'N' : [400,20,5000, #breeding op\n",
    "           1000, 20, 5000, #large herd\n",
    "           50, 5, 50000 ], #Small herd\n",
    "    'T':0\n",
    "})\n",
    "\n",
    "print(populations)"
   ]
  },
  {
   "cell_type": "markdown",
   "metadata": {},
   "source": [
    "## Cattle Migration and Population Dynamics\n",
    "\n",
    "Now let's create a stable cattle population where cattle are born into farm 1 and then distributed to the other farms where they eventually die. We will consider this in a way that leads to a stable overall population of cattle in each location when the average life span of a dairy cow is 6 years (recognizing that in reality this process is more episodic as cow lifespans are limited by culling). "
   ]
  }
 ],
 "metadata": {
  "kernelspec": {
   "display_name": "base",
   "language": "python",
   "name": "python3"
  },
  "language_info": {
   "codemirror_mode": {
    "name": "ipython",
    "version": 3
   },
   "file_extension": ".py",
   "mimetype": "text/x-python",
   "name": "python",
   "nbconvert_exporter": "python",
   "pygments_lexer": "ipython3",
   "version": "3.10.9"
  }
 },
 "nbformat": 4,
 "nbformat_minor": 2
}
