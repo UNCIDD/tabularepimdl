{
 "cells": [
  {
   "attachments": {},
   "cell_type": "markdown",
   "metadata": {},
   "source": [
    "# Household Structured Epidemic Model\n",
    "\n",
    "Here we use a transmission rule that allows transmission to differ based on whether people have some shared trait to create an epidemic model with household structure. Here folks are far more likely to transmit to others in their household, and move through the standard S, I and R states once infected. \n",
    "\n",
    "First imports and setup."
   ]
  },
  {
   "cell_type": "code",
   "execution_count": 1,
   "metadata": {},
   "outputs": [],
   "source": [
    "import tabularepimdl as tepi\n",
    "\n",
    "import pandas as pd\n",
    "import numpy as np"
   ]
  },
  {
   "attachments": {},
   "cell_type": "markdown",
   "metadata": {},
   "source": [
    "## Defining a Population\n",
    "\n",
    "The population is going to consist of 500 households with a mean size of 2. We will add an infected person to the last household on the list (HH number 499). "
   ]
  },
  {
   "cell_type": "code",
   "execution_count": 3,
   "metadata": {},
   "outputs": [
    {
     "data": {
      "text/html": [
       "<div>\n",
       "<style scoped>\n",
       "    .dataframe tbody tr th:only-of-type {\n",
       "        vertical-align: middle;\n",
       "    }\n",
       "\n",
       "    .dataframe tbody tr th {\n",
       "        vertical-align: top;\n",
       "    }\n",
       "\n",
       "    .dataframe thead th {\n",
       "        text-align: right;\n",
       "    }\n",
       "</style>\n",
       "<table border=\"1\" class=\"dataframe\">\n",
       "  <thead>\n",
       "    <tr style=\"text-align: right;\">\n",
       "      <th></th>\n",
       "      <th>DisState</th>\n",
       "      <th>HH</th>\n",
       "      <th>N</th>\n",
       "      <th>T</th>\n",
       "    </tr>\n",
       "  </thead>\n",
       "  <tbody>\n",
       "    <tr>\n",
       "      <th>496</th>\n",
       "      <td>S</td>\n",
       "      <td>496</td>\n",
       "      <td>3</td>\n",
       "      <td>0</td>\n",
       "    </tr>\n",
       "    <tr>\n",
       "      <th>497</th>\n",
       "      <td>S</td>\n",
       "      <td>497</td>\n",
       "      <td>1</td>\n",
       "      <td>0</td>\n",
       "    </tr>\n",
       "    <tr>\n",
       "      <th>498</th>\n",
       "      <td>S</td>\n",
       "      <td>498</td>\n",
       "      <td>2</td>\n",
       "      <td>0</td>\n",
       "    </tr>\n",
       "    <tr>\n",
       "      <th>499</th>\n",
       "      <td>S</td>\n",
       "      <td>499</td>\n",
       "      <td>3</td>\n",
       "      <td>0</td>\n",
       "    </tr>\n",
       "    <tr>\n",
       "      <th>500</th>\n",
       "      <td>I</td>\n",
       "      <td>499</td>\n",
       "      <td>1</td>\n",
       "      <td>0</td>\n",
       "    </tr>\n",
       "  </tbody>\n",
       "</table>\n",
       "</div>"
      ],
      "text/plain": [
       "    DisState   HH  N  T\n",
       "496        S  496  3  0\n",
       "497        S  497  1  0\n",
       "498        S  498  2  0\n",
       "499        S  499  3  0\n",
       "500        I  499  1  0"
      ]
     },
     "execution_count": 3,
     "metadata": {},
     "output_type": "execute_result"
    }
   ],
   "source": [
    "##create a population with 500 households of average size 2 and one\n",
    "##person infected in the 500th household\n",
    "hh_pop = pd.DataFrame({\n",
    "    'DisState':pd.Categorical([\"S\"]*500+[\"I\"],  categories=['S','I','R']),\n",
    "    'HH': list(range(500))+['499'],\n",
    "    'N': list(1+np.random.poisson(1,500))+[1],\n",
    "    'T':0\n",
    "})\n",
    "\n",
    "hh_pop.tail()"
   ]
  },
  {
   "attachments": {},
   "cell_type": "markdown",
   "metadata": {},
   "source": [
    "## Creating an Epidemic Model\n",
    "\n",
    "To define the epidemic model we will use a transmission rule that allows us to specify different transmission probabilities for those inside and outside of the household. Here we will assume that those inside the household have a 20% chance of transmitting to a fellow household member, and that they have a 0.2% chance transmitting to someone outside. Given an average household size of 0.2 and a total population of approximately 1000, $R_0$ is approximately:\n",
    "$$R_0 \\approx (0.2)*(2) + (0.02)(1000) = 2.4$$\n",
    "\n",
    "We will further presume infection lasts an average of 5 days."
   ]
  },
  {
   "cell_type": "code",
   "execution_count": 4,
   "metadata": {},
   "outputs": [],
   "source": [
    "hhEpi = tepi.EpiModel(hh_pop,\n",
    "                 [tepi.SharedTraitInfection(.2/5,.002/5,\"DisState\",\"HH\"),\n",
    "                  tepi.SimpleTransition(\"DisState\",\"I\",\"R\",.02)])"
   ]
  },
  {
   "attachments": {},
   "cell_type": "markdown",
   "metadata": {},
   "source": [
    "## Comparison with an unstructured SIR model\n",
    "\n",
    "How does houehold structure change the shape of the epidemic curve, even if transmission is determinstic? We will need a standard SIR model with an equivalent R0 to compare to."
   ]
  },
  {
   "cell_type": "code",
   "execution_count": 14,
   "metadata": {},
   "outputs": [
    {
     "data": {
      "text/html": [
       "<div>\n",
       "<style scoped>\n",
       "    .dataframe tbody tr th:only-of-type {\n",
       "        vertical-align: middle;\n",
       "    }\n",
       "\n",
       "    .dataframe tbody tr th {\n",
       "        vertical-align: top;\n",
       "    }\n",
       "\n",
       "    .dataframe thead th {\n",
       "        text-align: right;\n",
       "    }\n",
       "</style>\n",
       "<table border=\"1\" class=\"dataframe\">\n",
       "  <thead>\n",
       "    <tr style=\"text-align: right;\">\n",
       "      <th></th>\n",
       "      <th>DisState</th>\n",
       "      <th>T</th>\n",
       "      <th>N</th>\n",
       "    </tr>\n",
       "  </thead>\n",
       "  <tbody>\n",
       "    <tr>\n",
       "      <th>0</th>\n",
       "      <td>S</td>\n",
       "      <td>0</td>\n",
       "      <td>1005</td>\n",
       "    </tr>\n",
       "    <tr>\n",
       "      <th>1</th>\n",
       "      <td>I</td>\n",
       "      <td>0</td>\n",
       "      <td>1</td>\n",
       "    </tr>\n",
       "    <tr>\n",
       "      <th>2</th>\n",
       "      <td>R</td>\n",
       "      <td>0</td>\n",
       "      <td>0</td>\n",
       "    </tr>\n",
       "  </tbody>\n",
       "</table>\n",
       "</div>"
      ],
      "text/plain": [
       "  DisState  T     N\n",
       "0        S  0  1005\n",
       "1        I  0     1\n",
       "2        R  0     0"
      ]
     },
     "execution_count": 14,
     "metadata": {},
     "output_type": "execute_result"
    }
   ],
   "source": [
    "#First let's get the an equivalent population that does not have the population structure.\n",
    "simp_pop = hh_pop.copy().drop(\"HH\", axis=1)\n",
    "simp_pop = simp_pop.groupby([\"DisState\",\"T\"]).sum().reset_index()\n",
    "\n",
    "\n",
    "# Now create the standard SIR epidemic model\n"
   ]
  },
  {
   "attachments": {},
   "cell_type": "markdown",
   "metadata": {},
   "source": [
    "## Comparing Stochastic and Deterministic Results\n",
    "\n",
    "The household process is actually a bit more intesting from the stochastic prospective. Let's now compare that with the deterministic results, particularly around differences in household attack rates.\n"
   ]
  }
 ],
 "metadata": {
  "kernelspec": {
   "display_name": "base",
   "language": "python",
   "name": "python3"
  },
  "language_info": {
   "codemirror_mode": {
    "name": "ipython",
    "version": 3
   },
   "file_extension": ".py",
   "mimetype": "text/x-python",
   "name": "python",
   "nbconvert_exporter": "python",
   "pygments_lexer": "ipython3",
   "version": "3.10.9"
  },
  "orig_nbformat": 4
 },
 "nbformat": 4,
 "nbformat_minor": 2
}
